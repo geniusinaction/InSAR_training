{
 "cells": [
  {
   "cell_type": "markdown",
   "metadata": {},
   "source": [
    "# Preparing ARIA products for use in MintPy\n",
    "\n",
    "Gareth Funning\n",
    "\n",
    "This is a notebook that makes use of ARIA tools to download and prep ARIA standard product interferograms for use in MintPy."
   ]
  },
  {
   "cell_type": "markdown",
   "metadata": {},
   "source": [
    "## 1. Preliminaries \n",
    "\n",
    "(This all assumes that you have already installed ARIA tools. If not, get yourself to https://github.com/aria-tools/ARIA-tools and follow the instructions.)\n",
    "\n",
    "First, check for data availability. You can go to https://search.asf.alaska.edu/ to see if the track/frame combination you are interested in has any data. Figure out the track number that you want to download data from. (I want data from track 35.) Also figure out what bounding box you want to find products for (south north west east). You can do this by drawing a rectangle on the ARIA products website, or by mousing around in Google Earth.\n",
    "\n",
    "We'll start the Python with some dependencies and definitions that I borrowed from the tutorials (see https://github.com/aria-tools/ARIA-tools-docs):"
   ]
  },
  {
   "cell_type": "code",
   "execution_count": 3,
   "metadata": {
    "scrolled": true
   },
   "outputs": [
    {
     "name": "stdout",
     "output_type": "stream",
     "text": [
      "Work directory:  /mnt/c/Users/Gareth/Downloads\n",
      "Tutorial directory:  /mnt/c/Users/Gareth/Downloads\n"
     ]
    }
   ],
   "source": [
    "import os\n",
    "from osgeo import gdal, ogr\n",
    "import numpy as np\n",
    "import matplotlib.pyplot as plt\n",
    "from matplotlib.ticker import FuncFormatter, FormatStrFormatter, StrMethodFormatter\n",
    "from mpl_toolkits.axes_grid1 import make_axes_locatable  \n",
    "\n",
    "## Defining the home and data directories at the processing location\n",
    "work_dir = os.path.abspath(os.getcwd())\n",
    "tutorial_home_dir = os.path.abspath(os.getcwd())\n",
    "print(\"Work directory: \", work_dir)\n",
    "print(\"Tutorial directory: \", tutorial_home_dir)\n",
    "\n",
    "# Enable GDAL/OGR exceptions\n",
    "gdal.UseExceptions()\n",
    "\n",
    "# Verifying if ARIA-tools is installed correctly\n",
    "try:\n",
    "    import ARIAtools.shapefile_util as shputil\n",
    "except:\n",
    "#     raise Exception('ARIA-tools is missing from your PYTHONPATH')\n",
    "    pass\n",
    "        \n",
    "os.chdir(work_dir)\n",
    "\n",
    "\n",
    "# this function allows easy plotting\n",
    "def plot_layer(path_layer, lay_type=None, cmap=None, **kwargs):\n",
    "    \"\"\" \n",
    "        path_layers is a string to the GDAL compatible dataset to be plotted\n",
    "    \"\"\"\n",
    "    \n",
    "    if not lay_type: \n",
    "        lay_type = os.path.dirname(path_layer)\n",
    "    title = [os.path.basename(lay_type)]\n",
    "    \n",
    "    ## get the lon lat bounds\n",
    "    ds       = gdal.Open(path_layer, gdal.GA_ReadOnly)\n",
    "    trans    = ds.GetGeoTransform()\n",
    "    extent   = [trans[0], trans[0] + ds.RasterXSize * trans[1], trans[3] + ds.RasterYSize*trans[5], trans[3]]\n",
    "    \n",
    "    ## loading the data\n",
    "    n_bands  = ds.RasterCount\n",
    "    lst_arrs = []\n",
    "    \n",
    "    for band in range(n_bands):\n",
    "        raster = ds.GetRasterBand(band+1)\n",
    "        arr    = raster.ReadAsArray()\n",
    "        try:\n",
    "            NoData = raster.GetNoDataValue()\n",
    "            arr = np.ma.masked_where((arr>1e20) |(arr==NoData),arr )\n",
    "        except:\n",
    "            print('Could not find a no-data value...')\n",
    "            arr = np.ma.masked_where(arr>1e20,arr)\n",
    "        \n",
    "        lst_arrs.append(arr)\n",
    "\n",
    "    ds = None\n",
    "    if n_bands < 4:\n",
    "        nrows = 1; ncols = n_bands\n",
    "    else:\n",
    "        raise Exception('Number of bands currently unsupported')\n",
    "        \n",
    "    \n",
    "    ## initializing a figure\n",
    "    fig, axes = plt.subplots(figsize=(12,9), ncols=ncols, nrows=nrows, sharex='col', sharey='row')\n",
    "    axes = axes if isinstance(axes, np.ndarray) else np.array(axes)\n",
    "    axe  = axes.ravel() \n",
    "    cmap = plt.cm.Greys_r\n",
    "    cmap.set_under('black')\n",
    "    \n",
    "    ## definging the plotting options for differnt layer types\n",
    "    # Amplitude:\n",
    "    if lay_type.endswith('amplitude'): \n",
    "        # will fix the maximum amplitude bound\n",
    "        vmin=None\n",
    "        vmax = 2000 \n",
    "    # Coherence:\n",
    "    elif lay_type.endswith('coherence'): \n",
    "        # has fixed range between 0-1\n",
    "        vmin=0\n",
    "        vmax = 1\n",
    "    # Incidence angle:\n",
    "    elif lay_type.endswith('incidenceAngle'): \n",
    "        vmin=None\n",
    "        vmax=None\n",
    "    # water\n",
    "    elif lay_type.startswith('water'):\n",
    "        # no bounds needed will be a 0/1 mask\n",
    "        vmin=0\n",
    "        vmax=1\n",
    "        cmap='Greys'\n",
    "    # deformation or unwrapped phase\n",
    "    elif lay_type.startswith('defo'): \n",
    "        # let the data drive the bounds\n",
    "        vmin=None\n",
    "        vmax=None\n",
    "        # change colormap to a warm type\n",
    "        cmap=plt.cm.coolwarm\n",
    "    elif lay_type.startswith('terr') or lay_type.startswith('topo'): \n",
    "        # let the data drive the bounds\n",
    "        vmin=None\n",
    "        vmax=None\n",
    "        # change colormap to a warm type\n",
    "        cmap=plt.cm.terrain\n",
    "    elif lay_type == 'ENU':\n",
    "        vmin=None\n",
    "        vmax=None\n",
    "        title = ['East', 'North', 'Up']\n",
    "        fig.subplots_adjust(wspace=0.5)\n",
    "\n",
    "    else:\n",
    "        # let the data drive the bounds\n",
    "        vmin=None\n",
    "        vmax=None\n",
    "        # change colormap to a warm type\n",
    "        cmap=plt.cm.coolwarm\n",
    "        \n",
    "    # plotting the data    \n",
    "    for i, ax in enumerate(axe):\n",
    "        im   = ax.imshow(lst_arrs[i], cmap=cmap, vmin=vmin, vmax=vmax, extent=extent,interpolation='nearest')\n",
    "        divider = make_axes_locatable(ax)\n",
    "        cax     = divider.append_axes('right', size='5%', pad=0.25)\n",
    "        if lay_type == 'ENU':\n",
    "            fig.colorbar(im, cax=cax, format=FuncFormatter(lambda x, y: '{:.3f}'.format(x)))\n",
    "        elif lay_type.startswith('water'):\n",
    "            fig.colorbar(im, cax=cax, ticks=[vmin, vmax])\n",
    "        else:\n",
    "            fig.colorbar(im, cax=cax)\n",
    "\n",
    "        ax.set_title(title[i], fontsize=15)\n",
    "        ax.grid(False)\n",
    "\n",
    "    axe[0].set_ylabel('latitude', labelpad=15, fontsize=15)\n",
    "    axe[int(np.floor(n_bands/2))].set_xlabel('longitude', labelpad=15, fontsize=15)"
   ]
  },
  {
   "cell_type": "markdown",
   "metadata": {},
   "source": [
    "## 2. Checking and downloading the available data\n",
    "\n",
    "We can use the ariaDownload.py script to check for available data, and if we like what is there, to download it. "
   ]
  },
  {
   "cell_type": "code",
   "execution_count": null,
   "metadata": {},
   "outputs": [],
   "source": [
    "# let's see the options for the script\n",
    "!ariaDownload.py"
   ]
  },
  {
   "cell_type": "markdown",
   "metadata": {},
   "source": [
    "Next, you can use ariaDownload to check the numbers of interferograms available. Substitute in here your preferred Sentinel-1 track and bounding box (\"south north west east\"):"
   ]
  },
  {
   "cell_type": "code",
   "execution_count": 2,
   "metadata": {},
   "outputs": [
    {
     "name": "stdout",
     "output_type": "stream",
     "text": [
      "/bin/bash: line 1: ariaDownload.py: command not found\r\n"
     ]
    }
   ],
   "source": [
    "!ariaDownload.py --track 35 --bbox \"38.6 39.0 -123.1 -122.5\" -o count"
   ]
  },
  {
   "cell_type": "markdown",
   "metadata": {},
   "source": [
    "And if you're happy, download them (with the correct track and box, as above):"
   ]
  },
  {
   "cell_type": "code",
   "execution_count": null,
   "metadata": {},
   "outputs": [],
   "source": [
    "# this downloads the data for a given track and bounding box\n",
    "!ariaDownload.py --track 35 --bbox \"38.6 39.0 -123.1 -122.5\" "
   ]
  },
  {
   "cell_type": "markdown",
   "metadata": {},
   "source": [
    "If your area of interest is covered by more than one frame, you will want to stitch them together. ARIA tools should do this for you. ariaExtract.py is the command that lets you look at these things... try and make sure that the minimum overlap area you specify is close to the area of your bounding box."
   ]
  },
  {
   "cell_type": "code",
   "execution_count": 5,
   "metadata": {},
   "outputs": [
    {
     "name": "stdout",
     "output_type": "stream",
     "text": [
      "***Extract Product Function:***\n",
      "Multi-core version\n",
      "All (411) GUNW products meet spatial bbox criteria.\n",
      "Group GUNW products into spatiotemporally continuous interferograms.\n",
      "All (393) interferograms are spatially continuous.\n",
      "No layers specified; only creating bounding box shapes\n",
      "Thread count specified for gdal multiprocessing = 14\n"
     ]
    }
   ],
   "source": [
    "# some things to try here\n",
    "!rm -f productBoundingBox/*.json        # clear out any existing bounding boxes\n",
    "#!ariaExtract.py -f \"products/*.nc\" -nt 14  # no special conditions ('-nt 14' uses 14 CPU threads) \n",
    "\n",
    "!ariaExtract.py -f \"products/*.nc\" -mo 20000 -nt 4  # '-mo 20000' => area of minimum overlap in km^2"
   ]
  },
  {
   "cell_type": "markdown",
   "metadata": {},
   "source": [
    "And this plots the bounding box you end up with that satisfies all your products:"
   ]
  },
  {
   "cell_type": "code",
   "execution_count": 6,
   "metadata": {},
   "outputs": [
    {
     "data": {
      "image/png": "[encoded data removed]",
      "text/plain": [
       "<Figure size 864x648 with 1 Axes>"
      ]
     },
     "metadata": {},
     "output_type": "display_data"
    }
   ],
   "source": [
    "shputil.plot_shapefile(os.path.join('productBoundingBox', 'productBoundingBox.json'))"
   ]
  },
  {
   "cell_type": "markdown",
   "metadata": {},
   "source": [
    "## 3. Preparing inputs for time series analysis with MintPy\n",
    "\n",
    "If you like what you've been seeing above, you can move forward with the time series prep, using those same options, plus a couple more options that MintPy needs (downloading a DEM and water mask):"
   ]
  },
  {
   "cell_type": "code",
   "execution_count": 7,
   "metadata": {},
   "outputs": [
    {
     "name": "stdout",
     "output_type": "stream",
     "text": [
      "***Time-series Preparation Function:***\n",
      "Multi-core version\n",
      "All (411) GUNW products meet spatial bbox criteria.\n",
      "Group GUNW products into spatiotemporally continuous interferograms.\n",
      "All (393) interferograms are spatially continuous.\n",
      "Thread count specified for gdal multiprocessing = 14\n",
      "Download/cropping DEM\n",
      "Downloaded 3 arc-sec SRTM DEM here: ./DEM/SRTM_3arcsec.dem\n",
      "***Downloading water mask... ***\n",
      "\n",
      "Extracting unwrapped phase, coherence, and connected components for each interferogram pair\n",
      "Generating: unwrappedPhase - [>                        2%                       ] 20150921_20150828   27s /  1329sMulti-core version failed, will try single for loop\n",
      "Generating: unwrappedPhase - [==================================================] 20200304_20200227  843s /    17s \n",
      "Generating: coherence - [==================================================] 20200304_20200227  265s /     5s \n",
      "\n",
      "Extracting single incidence angle, look angle and azimuth angle files valid over common interferometric grid\n",
      "Generating: incidenceAngle - [==================================================] 20150617_20150524 \n",
      "Generating: lookAngle - [==================================================] 20150617_20150524 \n",
      "Generating: azimuthAngle - [==================================================] 20150617_20150524 \n",
      "Creating directory: ./stack\n",
      "Number of coherence discovered:  393\n",
      "[==================================================] 20200304_20200227    3s /     0s\n",
      "cohStack : stack generated\n",
      "Directory ./stack already exists.\n",
      "Number of connectedComponents discovered:  393\n",
      "[==================================================] 20200304_20200227    6s /     0s\n",
      "connCompStack : stack generated\n",
      "Directory ./stack already exists.\n",
      "Number of unwrapped interferograms discovered:  393\n",
      "[==================================================] 20200304_20200227    5s /     0s\n",
      "unwrapStack : stack generated\n"
     ]
    }
   ],
   "source": [
    "!ariaTSsetup.py -f 'products/*.nc' -mo 20000 -nt 4 -d Download --mask Download"
   ]
  },
  {
   "cell_type": "code",
   "execution_count": null,
   "metadata": {},
   "outputs": [],
   "source": []
  }
 ],
 "metadata": {
  "kernelspec": {
   "display_name": "Python 3 (ipykernel)",
   "language": "python",
   "name": "python3"
  },
  "language_info": {
   "codemirror_mode": {
    "name": "ipython",
    "version": 3
   },
   "file_extension": ".py",
   "mimetype": "text/x-python",
   "name": "python",
   "nbconvert_exporter": "python",
   "pygments_lexer": "ipython3",
   "version": "3.11.6"
  }
 },
 "nbformat": 4,
 "nbformat_minor": 4
}
