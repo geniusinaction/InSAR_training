{
 "cells": [
  {
   "cell_type": "markdown",
   "id": "3c1b6374-03ea-4c1b-bfc3-1620cb2ae45d",
   "metadata": {},
   "source": [
    "# Simple hyp3 setup for MintPy\n",
    "\n",
    "Gareth Funning, University of California, Riverside\n",
    "\n"
   ]
  },
  {
   "cell_type": "markdown",
   "id": "64efbe71-c186-4280-a16d-ab0e87baaaca",
   "metadata": {},
   "source": [
    "## 1. Dependencies and directories\n",
    "\n",
    "You need these installed for anything to work!"
   ]
  },
  {
   "cell_type": "code",
   "execution_count": null,
   "id": "91aa1355-f114-47ca-bf6b-f6ff77fe8eb3",
   "metadata": {},
   "outputs": [],
   "source": [
    "import os\n",
    "import zipfile\n",
    "import utm"
   ]
  },
  {
   "cell_type": "markdown",
   "id": "d58ce6fa",
   "metadata": {},
   "source": [
    "## 2. Set up directories and unpack the data\n",
    "\n",
    "The expectation is that you have downloaded processed interferogram data to a directory called 'hyp3' located in the same directory as this notebook. (If you haven't, we can try and do that now.)\n",
    "The first steps involve setting up some directories, and then unzipping all the files."
   ]
  },
  {
   "cell_type": "code",
   "execution_count": null,
   "id": "c057c043-6693-4665-bd55-93f5512f7cf8",
   "metadata": {
    "scrolled": true
   },
   "outputs": [],
   "source": [
    "# define some directory names\n",
    "top_dir = os.getcwd()\n",
    "hyp3_dir = os.path.join(top_dir, 'hyp3')\n",
    "mintpy_dir = os.path.join(top_dir, 'mintpy')\n",
    "\n",
    "# make the hyp3 and mintpy directories, if they don't exist already\n",
    "os.makedirs(hyp3_dir, exist_ok=True)\n",
    "os.makedirs(mintpy_dir, exist_ok=True)\n",
    "\n",
    "# and tell us what you made\n",
    "print('Top level directory: {0:s}'.format(top_dir))\n",
    "print('Data download directory: {0:s}'.format(hyp3_dir))\n",
    "print('Working directory for MintPy: {0:s}'.format(mintpy_dir))"
   ]
  },
  {
   "cell_type": "code",
   "execution_count": null,
   "id": "6d6eaeab",
   "metadata": {},
   "outputs": [],
   "source": [
    "# OPTIONAL data download\n",
    " \n",
    "# if you haven't downloaded the data already - you need to copy the download script from Vertex\n",
    "# into the 'hyp3' directory we just made and then nun it in the terminal\n",
    "\n",
    "# since it is a Python script, you can run it with the 'python. command, e.g.\n",
    "\n",
    "# python download-all-2024-03-19_01-11-55.py   (substitute your script name)\n",
    "\n",
    "# you will probably be prompted for your Earthdata username and passwoed"
   ]
  },
  {
   "cell_type": "code",
   "execution_count": null,
   "id": "df46ad38-abd7-47ab-852b-2197a2bc01d0",
   "metadata": {},
   "outputs": [],
   "source": [
    "# let's unzip these files\n",
    "\n",
    "# first go to the hyp3 directory\n",
    "os.chdir(hyp3_dir)\n",
    "\n",
    "# loop through all files in the directory\n",
    "for file in os.listdir(\".\"):\n",
    "    # check they are zip files\n",
    "    if file.endswith(\".zip\"):\n",
    "        # and if so, unzip 'em'\n",
    "        with zipfile.ZipFile(file, 'r') as zip_ref:\n",
    "            zip_ref.extractall('.')"
   ]
  },
  {
   "cell_type": "code",
   "execution_count": null,
   "id": "b93ed99a-89ef-42b5-8dcb-e1e8bcf15993",
   "metadata": {},
   "outputs": [],
   "source": [
    "# and let's have a look to see whether it worked\n",
    "# list all the unwrapped phase files\n",
    "!ls "
   ]
  },
  {
   "cell_type": "markdown",
   "id": "bd3e0289",
   "metadata": {},
   "source": [
    "## 3. 'Clip' the data \n",
    "\n",
    "Although it is often a close run thing, experience suggests that the burst interferogram files produced by HyP3 can vary in size by a pixel or two in longitude or latitude. MintPy tends to throw out any data that differs in size from the majority. One way to prevent this happening, and therefore to maximize the number of interferograms included in the analysis, is to crop the data to common bounds. And there is a script, cutGeotiffs.py, that can do that."
   ]
  },
  {
   "cell_type": "code",
   "execution_count": null,
   "id": "e55dbdf6",
   "metadata": {},
   "outputs": [],
   "source": [
    "clippit=True   # you probably want to do this"
   ]
  },
  {
   "cell_type": "code",
   "execution_count": null,
   "id": "80b13429",
   "metadata": {},
   "outputs": [],
   "source": [
    "# only need to run this bit once\n",
    "if clippit:\n",
    "    os.chdir(hyp3_dir)\n",
    "    !cutGeotiffs.py */*unw_phase.tif */*lv*.tif */*dem.tif\n",
    "    !cutGeotiffs.py */*corr.tif\n",
    "    !cutGeotiffs.py */*conncomp.tif\n"
   ]
  },
  {
   "cell_type": "markdown",
   "id": "5c543829-2dc2-45e4-8514-a7343feffb5f",
   "metadata": {},
   "source": [
    "## 4. Set up an input file for MintPy\n",
    "\n",
    "We will want to set up a simple input file that points to the locations of all the files we just extracted and clipped. Luckily, the ASF folks and MintPy team are friends and set it up so that MintPy can read HyP3 data natively. \n",
    "\n",
    "The next code cell will make the input file for you in the directory we made for MintPy. You can (and should) choose a meaningful name for it."
   ]
  },
  {
   "cell_type": "code",
   "execution_count": null,
   "id": "24d4eddf-3502-4bc2-a41e-e2ed34a48b17",
   "metadata": {},
   "outputs": [],
   "source": [
    "# choose a name for your project that is meaningful\n",
    "config_filename='arizona_s1_burst.txt' \n",
    "\n",
    "if clippit:\n",
    "    clip=\"_clip\"\n",
    "else:\n",
    "    clip=\"\"\n",
    "    \n",
    "config_file = os.path.join(mintpy_dir, config_filename)\n",
    "\n",
    "# write out the config information\n",
    "fp =  open(config_file,\"w\")\n",
    "fp.write(\"##---------computation:\\n\")\n",
    "fp.write(\"mintpy.compute.cluster          = local\\n\")\n",
    "fp.write(\"mintpy.compute.numWorker        = 4  # should be good for most computers \\n\")\n",
    "fp.write(\"##---------processing:\\n\")\n",
    "fp.write(\"mintpy.load.processor           = hyp3\\n\")\n",
    "fp.write(\"##---------interferogram datasets:\\n\")\n",
    "fp.write(\"mintpy.load.unwFile             = {0:s}/*/*unw_phase{1:s}.tif\\n\".format(hyp3_dir,clip))\n",
    "fp.write(\"mintpy.load.corFile             = {0:s}/*/*corr{1:s}.tif\\n\".format(hyp3_dir,clip))\n",
    "# uncomment the next line if you are using Sentinel-1 bursts", 
    "\#fp.write(\"mintpy.load.connCompFile    = ../ifgs/*/*_conncomp{1:s}.tif\\n\".format(hyp3_dir,clip))\n",
    "fp.write(\"##---------geometry datasets:\\n\")\n",
    "fp.write(\"mintpy.load.demFile             = {0:s}/*/*dem{1:s}.tif\\n\".format(hyp3_dir,clip))\n",
    "fp.write(\"mintpy.load.incAngleFile        = {0:s}/*/*lv_theta{1:s}.tif\\n\".format(hyp3_dir,clip))\n",
    "fp.write(\"mintpy.load.azAngleFile         = {0:s}/*/*lv_phi{1:s}.tif\\n\".format(hyp3_dir,clip))\n",
    "fp.write(\"mintpy.load.waterMaskFile       = {0:s}/*/*water_mask{1:s}.tif\\n\".format(hyp3_dir,clip))\n",
    "fp.write(\"##---------other options:\\n\")\n",
    "# uncomment the next line if you want to use a subset of your data (and edit with the appropriate bounds",
    "\#fp.write(\"#mintpy.subset.lalo              = 4375000:4395000,252000:272000    #[S:N,W:E] paste in your own area and uncomment \\n\")\n",
    "fp.write(\"mintpy.troposphericDelay.method = no  #[pyaps / height_correlation / gacos / no]\\n\")\n",
    "fp.write(\"mintpy.topographicResidual      = auto \\n\")\n",
    "fp.close()"
   ]
  },
  {
   "cell_type": "code",
   "execution_count": null,
   "id": "e6414836",
   "metadata": {},
   "outputs": [],
   "source": [
    "!cat $config_file"
   ]
  },
  {
   "cell_type": "markdown",
   "id": "507a3732",
   "metadata": {},
   "source": [
    "## 5. And you can run MintPy now, if you like!\n",
    "\n",
    "The MintPy team has much fancier notebooks that you can run to make the most of the functionality of the software (and some useful intermediate plotting) but you can get a long way just by running the MintPy workflow smallbaselineApp.py with mostly default options. And that's really easy!"
   ]
  },
  {
   "cell_type": "code",
   "execution_count": null,
   "id": "5963a41f",
   "metadata": {},
   "outputs": [],
   "source": [
    "# change to the correct directory\n",
    "os.chdir(mintpy_dir)\n",
    "# and have at it!\n",
    "!smallbaselineApp.py $config_filename"
   ]
  },
  {
   "cell_type": "markdown",
   "id": "dce5773a",
   "metadata": {},
   "source": [
    "## 6. A note on displaying the output\n",
    "\n",
    "MintPy has a number of scripts that can display the final output. Probably the most useful quick visualization available is saving the output as a kmz file for viewing in Google Earth. The script, 'save_kmz.py', allows you to specify what you want to plot (typically, the velocity) as well as the bounds of the color scale (typically $\\pm$ 1 cm/yr is a good staring guess).\n",
    "\n",
    "Although it is a useful script, there is a bug that inserts the wrong coordinates into the kmz file $-$ there is a simple(ish) manual fix for this, which we can try below."
   ]
  },
  {
   "cell_type": "code",
   "execution_count": null,
   "id": "4bbbe573",
   "metadata": {},
   "outputs": [],
   "source": [
    "# if you want to view the output, and have set up X-windows on your machine, you can display\n",
    "# display the output using this command (copy and paste to the terminal)\n",
    "\n",
    "# view.py velocity.h5 velocity -v 1 -1\n",
    "\n",
    "# you can also produce kmz files a similar way - uncomment the following command and run it\n",
    "\n",
    "# !save_kmz.py velocity.h5 velocity -v -1 1"
   ]
  },
  {
   "cell_type": "code",
   "execution_count": null,
   "id": "ea4148f1",
   "metadata": {},
   "outputs": [],
   "source": [
    "# But! A charming bug in MintPy means that datasets made from HyP3 data are not properly geocoded\n",
    "# when you save them (they are geocoded with UTM coordinates which don't work in kml). If you\n",
    "# paste the utm coordinates in here, though, you can figure out what the long-lat coordinates\n",
    "# should be...\n",
    "\n",
    "north_bound=3865560\n",
    "south_bound=3829280\n",
    "\n",
    "east_bound=603720\n",
    "west_bound=510360\n",
    "\n",
    "utm_zone=12\n",
    "utm_lett='S'\n",
    "\n",
    "# for details on utm zones/letters see this figure here:\n",
    "# https://en.wikipedia.org/wiki/Universal_Transverse_Mercator_coordinate_system#/media/File:Universal_Transverse_Mercator_zones.svg\n",
    "\n",
    "topleft=utm.to_latlon(west_bound,north_bound,utm_zone,utm_lett)\n",
    "bottomright=utm.to_latlon(east_bound,south_bound,utm_zone,utm_lett)\n",
    "\n",
    "print(\"North: {0:f}\".format(topleft[0]))\n",
    "print(\"South: {0:f}\".format(bottomright[0]))\n",
    "print(\"East: {0:f}\".format(bottomright[1]))\n",
    "print(\"West: {0:f}\".format(topleft[1]))\n",
    "\n",
    "# you need to paste these numbers into the velocity layer in velocity.kmz in Google Earth for it\n",
    "# to show the data in the right place!\n"
   ]
  },
  {
   "cell_type": "code",
   "execution_count": null,
   "id": "98bc1bc6",
   "metadata": {},
   "outputs": [],
   "source": []
  },
  {
   "cell_type": "code",
   "execution_count": null,
   "id": "ce630976",
   "metadata": {},
   "outputs": [],
   "source": []
  }
 ],
 "metadata": {
  "kernelspec": {
   "display_name": "Python 3 (ipykernel)",
   "language": "python",
   "name": "python3"
  },
  "language_info": {
   "codemirror_mode": {
    "name": "ipython",
    "version": 3
   },
   "file_extension": ".py",
   "mimetype": "text/x-python",
   "name": "python",
   "nbconvert_exporter": "python",
   "pygments_lexer": "ipython3",
   "version": "3.11.6"
  }
 },
 "nbformat": 4,
 "nbformat_minor": 5
}
